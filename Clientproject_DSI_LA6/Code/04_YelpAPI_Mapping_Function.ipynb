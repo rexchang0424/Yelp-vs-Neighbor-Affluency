{
 "cells": [
  {
   "cell_type": "markdown",
   "metadata": {},
   "source": [
    "### Import Modules, Data Sources and Functions"
   ]
  },
  {
   "cell_type": "code",
   "execution_count": 1,
   "metadata": {},
   "outputs": [],
   "source": [
    "import requests\n",
    "import numpy as np\n",
    "import pandas as pd\n",
    "import folium\n",
    "import geopandas as gpd\n",
    "import json\n",
    "import time\n",
    "from yelpapi import YelpAPI\n",
    "import pickle\n",
    "import branca"
   ]
  },
  {
   "cell_type": "markdown",
   "metadata": {},
   "source": [
    "Read geometric files and IRS Data"
   ]
  },
  {
   "cell_type": "code",
   "execution_count": 2,
   "metadata": {},
   "outputs": [],
   "source": [
    "census_zips_bounds = gpd.read_file('/Volumes/data/cb_2017_us_zcta510_500k/cb_2017_us_zcta510_500k.shp')\n",
    "census_zips_bounds = census_zips_bounds.set_index('ZCTA5CE10')\n",
    "census_zips_bounds = census_zips_bounds[['GEOID10','geometry']]\n",
    "census_zips_bounds.columns = ['regionid','geometry']\n",
    "census_zips_bounds['regionid'] = census_zips_bounds['regionid'].astype(int)\n",
    "census_zips_bounds.crs = {'init' :'epsg:4326'}\n",
    "IRS_data = pd.read_csv('../Data/IRS_with_target.csv')\n",
    "IRS_data.set_index('zip',inplace=True)"
   ]
  },
  {
   "cell_type": "markdown",
   "metadata": {},
   "source": [
    "Function for pulling listings from the yelp api"
   ]
  },
  {
   "cell_type": "code",
   "execution_count": 3,
   "metadata": {},
   "outputs": [],
   "source": [
    "def yelp_s(location):\n",
    "    response = []\n",
    "    start_time = time.time()\n",
    "    location = location\n",
    "    for i in range(20):\n",
    "        offsets = i*50\n",
    "        print('Getting Yelp Businesses Page ' +str(offsets)+' from ' +location+'.')\n",
    "        iteration = yelp_api.search_query(location=location,\n",
    "                                     price=[1,2,3,4],\n",
    "                                     offset=offsets,\n",
    "                                     limit=50)\n",
    "        \n",
    "        response.extend(iteration['businesses'])\n",
    "    print(f'Total Time Spent: {round((time.time()-start_time))} seconds')\n",
    "    return response"
   ]
  },
  {
   "cell_type": "markdown",
   "metadata": {},
   "source": [
    "Function for plotting individual yelp listings, according to their latitude/longitude and price."
   ]
  },
  {
   "cell_type": "code",
   "execution_count": 4,
   "metadata": {},
   "outputs": [],
   "source": [
    "def point_plotter(specific_frame,the_map):\n",
    "    \n",
    "    \n",
    "    specific_frame1 = specific_frame.loc[specific_frame['price'] == 1]\n",
    "    specific_frame2 = specific_frame.loc[specific_frame['price'] == 2]\n",
    "    specific_frame3 = specific_frame.loc[specific_frame['price'] == 3]\n",
    "    specific_frame4 = specific_frame.loc[specific_frame['price'] == 4]\n",
    "    \n",
    "    name1 = list(specific_frame1[\"name\"])\n",
    "    lat1 = list(specific_frame1[\"latitude\"])\n",
    "    lon1 = list(specific_frame1[\"longitude\"])\n",
    "\n",
    "    name2 = list(specific_frame2[\"name\"])\n",
    "    lat2 = list(specific_frame2[\"latitude\"])\n",
    "    lon2 = list(specific_frame2[\"longitude\"])\n",
    "\n",
    "    name3 = list(specific_frame3[\"name\"])\n",
    "    lat3 = list(specific_frame3[\"latitude\"])\n",
    "    lon3 = list(specific_frame3[\"longitude\"])\n",
    "\n",
    "    name4 = list(specific_frame4[\"name\"])\n",
    "    lat4 = list(specific_frame4[\"latitude\"])\n",
    "    lon4 = list(specific_frame4[\"longitude\"])\n",
    "    \n",
    "    fg1 = folium.FeatureGroup(name=\"1 Dollar Sign\")\n",
    "    fg2 = folium.FeatureGroup(name=\"2 Dollar Signs\")\n",
    "    fg3 = folium.FeatureGroup(name=\"3 Dollar Signs\")\n",
    "    fg4 = folium.FeatureGroup(name=\"4 Dollar Signs\")\n",
    "    \n",
    "    for lt, ln, nm in zip(lat1, lon1, name1):\n",
    "        fg1.add_child(folium.CircleMarker(location=[lt, ln], radius = 5, popup= nm + \", \" + str(1)+\" price\",\n",
    "        fill_color='red', fill=True,  color = 'red', fill_opacity=0.7))\n",
    "\n",
    "    for lt, ln, nm in zip(lat2, lon2, name2):\n",
    "        fg2.add_child(folium.CircleMarker(location=[lt, ln], radius = 5, popup= nm + \", \" + str(2)+\" price\",\n",
    "        fill_color='orange', fill=True,  color = 'orange', fill_opacity=0.7))\n",
    "\n",
    "    for lt, ln, nm in zip(lat3, lon3, name3):\n",
    "        fg3.add_child(folium.CircleMarker(location=[lt, ln], radius = 5, popup= nm + \", \" + str(3)+\" price\",\n",
    "        fill_color='yellow', fill=True,  color = 'yellow', fill_opacity=0.7))\n",
    "\n",
    "    for lt, ln, nm in zip(lat4, lon4, name4):\n",
    "        fg4.add_child(folium.CircleMarker(location=[lt, ln], radius = 5, popup= nm + \", \" + str(4)+\" price\",\n",
    "        fill_color='green', fill=True,  color = 'green', fill_opacity=0.7))\n",
    "        \n",
    "    the_map.add_child(fg1)\n",
    "    the_map.add_child(fg2)\n",
    "    the_map.add_child(fg3)\n",
    "    the_map.add_child(fg4)"
   ]
  },
  {
   "cell_type": "markdown",
   "metadata": {},
   "source": [
    "Function for plotting information pulled from yelp"
   ]
  },
  {
   "cell_type": "code",
   "execution_count": 5,
   "metadata": {},
   "outputs": [],
   "source": [
    "def yelp_plotter(zipcode,a_map):\n",
    "\n",
    "    df = pd.DataFrame(yelp_s(zipcode))\n",
    "    df = df.replace({'price' : { \"$$$$\" : 4, '$$$' : 3, '$$' : 2 , '$': 1}})\n",
    "    df['latitude'] = df['coordinates'].apply(lambda x: float(x['latitude']))\n",
    "    df['longitude'] = df['coordinates'].apply(lambda x: float(x['longitude']))\n",
    "    df['zip_code'] = df['location'].apply(lambda x: x['zip_code'])\n",
    "    \n",
    "    df = df.loc[df['zip_code'] == zipcode]\n",
    "    \n",
    "    boundaries = census_zips_bounds.loc[census_zips_bounds['regionid'] == int(zipcode)]\n",
    "    \n",
    "    bounds = folium.GeoJson(\n",
    "    boundaries,\n",
    "    style_function=lambda feature: {\n",
    "        'fillColor': 'red',\n",
    "        'color': 'black',\n",
    "        'weight': 2,\n",
    "        'dashArray': '5, 5',\n",
    "        'fillOpacity': 0.3,\n",
    "        },\n",
    "        name='asdf'\n",
    "    )\n",
    "    \n",
    "    target = IRS_data['target'][int(zipcode)]\n",
    "    \n",
    "    \n",
    "    price_listing = df.groupby('price')['price'].count()\n",
    "    \n",
    "    if 1 in price_listing.keys():\n",
    "        one_dollar = price_listing[1]\n",
    "    else:\n",
    "        one_dollar = 0\n",
    "    \n",
    "    if 2 in price_listing.keys():\n",
    "        two_dollar = price_listing[2]\n",
    "    else:\n",
    "        two_dollar_dollar = 0\n",
    "    \n",
    "    if 3 in price_listing.keys():\n",
    "        three_dollar = price_listing[3]\n",
    "    else:\n",
    "        three_dollar = 0\n",
    "        \n",
    "    if 4 in price_listing.keys():\n",
    "        four_dollar = price_listing[4]\n",
    "    else:\n",
    "        four_dollar = 0\n",
    "    \n",
    "    html = f\"\"\"\n",
    "    <h3>Zipcode: {zipcode}</h3>\n",
    "    <h4>Income Class: {target}</h4>\n",
    "    <h4>One Dollar: {one_dollar}</h4>\n",
    "    <h4>Two Dollar: {two_dollar}</h4>\n",
    "    <h4>Three Dollar: {three_dollar}</h4>\n",
    "    <h4>Four Dollar: {four_dollar}</h4>\n",
    "    \"\"\"\n",
    "    boundaries = boundaries.reset_index()\n",
    "    \n",
    "    bounds.add_to(a_map)\n",
    "    \n",
    "    point_plotter(df,a_map)\n",
    "    \n",
    "    folium.Marker([boundaries['geometry'][0].centroid.y,boundaries['geometry'][0].centroid.x], popup=html\n",
    "    ).add_to(a_map)\n",
    "    \n",
    "    a_map.add_child(folium.LayerControl())\n",
    "    \n",
    "    a_map = folium.Map([boundaries['geometry'][0].centroid.y,boundaries['geometry'][0].centroid.x], zoom_start=12)"
   ]
  },
  {
   "cell_type": "markdown",
   "metadata": {},
   "source": [
    "# Choose Zipcode and Create the Map"
   ]
  },
  {
   "cell_type": "code",
   "execution_count": 14,
   "metadata": {},
   "outputs": [],
   "source": [
    "zipcode = '90401'"
   ]
  },
  {
   "cell_type": "code",
   "execution_count": 15,
   "metadata": {},
   "outputs": [],
   "source": [
    "zipcode_lat = census_zips_bounds['geometry'][zipcode].centroid.y\n",
    "zipcode_long = census_zips_bounds['geometry'][zipcode].centroid.x"
   ]
  },
  {
   "cell_type": "code",
   "execution_count": 16,
   "metadata": {},
   "outputs": [],
   "source": [
    "map_2 = folium.Map([zipcode_lat, zipcode_long], zoom_start=12)"
   ]
  },
  {
   "cell_type": "code",
   "execution_count": 1,
   "metadata": {},
   "outputs": [],
   "source": [
    "personal_key = ''"
   ]
  },
  {
   "cell_type": "code",
   "execution_count": 18,
   "metadata": {},
   "outputs": [],
   "source": [
    "yelp_api = YelpAPI(personal_key,timeout_s=3.0)\n",
    "results = []"
   ]
  },
  {
   "cell_type": "code",
   "execution_count": 19,
   "metadata": {},
   "outputs": [
    {
     "name": "stdout",
     "output_type": "stream",
     "text": [
      "Getting Yelp Businesses Page 0 from 90401.\n",
      "Getting Yelp Businesses Page 50 from 90401.\n",
      "Getting Yelp Businesses Page 100 from 90401.\n",
      "Getting Yelp Businesses Page 150 from 90401.\n",
      "Getting Yelp Businesses Page 200 from 90401.\n",
      "Getting Yelp Businesses Page 250 from 90401.\n",
      "Getting Yelp Businesses Page 300 from 90401.\n",
      "Getting Yelp Businesses Page 350 from 90401.\n",
      "Getting Yelp Businesses Page 400 from 90401.\n",
      "Getting Yelp Businesses Page 450 from 90401.\n",
      "Getting Yelp Businesses Page 500 from 90401.\n",
      "Getting Yelp Businesses Page 550 from 90401.\n",
      "Getting Yelp Businesses Page 600 from 90401.\n",
      "Getting Yelp Businesses Page 650 from 90401.\n",
      "Getting Yelp Businesses Page 700 from 90401.\n",
      "Getting Yelp Businesses Page 750 from 90401.\n",
      "Getting Yelp Businesses Page 800 from 90401.\n",
      "Getting Yelp Businesses Page 850 from 90401.\n",
      "Getting Yelp Businesses Page 900 from 90401.\n",
      "Getting Yelp Businesses Page 950 from 90401.\n",
      "Total Time Spent: 15 seconds\n"
     ]
    }
   ],
   "source": [
    "yelp_plotter(zipcode,map_2)"
   ]
  },
  {
   "cell_type": "markdown",
   "metadata": {},
   "source": [
    "# Static Screenshot of Map"
   ]
  },
  {
   "cell_type": "markdown",
   "metadata": {},
   "source": [
    "![Chloropleth of US](../IMG/Map_demo.png)"
   ]
  },
  {
   "cell_type": "markdown",
   "metadata": {},
   "source": [
    "Future Goals:\n",
    "    - Scale to accomodate a list of zipcodes\n",
    "    - Pop ups with optional Vincent plots"
   ]
  }
 ],
 "metadata": {
  "kernelspec": {
   "display_name": "Python 3",
   "language": "python",
   "name": "python3"
  },
  "language_info": {
   "codemirror_mode": {
    "name": "ipython",
    "version": 3
   },
   "file_extension": ".py",
   "mimetype": "text/x-python",
   "name": "python",
   "nbconvert_exporter": "python",
   "pygments_lexer": "ipython3",
   "version": "3.6.7"
  }
 },
 "nbformat": 4,
 "nbformat_minor": 2
}
