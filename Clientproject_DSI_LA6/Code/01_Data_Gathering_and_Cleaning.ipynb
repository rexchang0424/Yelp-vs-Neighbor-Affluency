{
 "cells": [
  {
   "cell_type": "markdown",
   "metadata": {},
   "source": [
    "# 1. Import Libraries"
   ]
  },
  {
   "cell_type": "code",
   "execution_count": 1,
   "metadata": {},
   "outputs": [],
   "source": [
    "import json\n",
    "import pandas as pd\n",
    "import numpy as np\n",
    "import geopandas as gpd"
   ]
  },
  {
   "cell_type": "markdown",
   "metadata": {},
   "source": [
    "> Note: The 'geopandas' module allows us to work with geospatial data in python easier."
   ]
  },
  {
   "cell_type": "markdown",
   "metadata": {},
   "source": [
    "# 2. Preparing Dataset"
   ]
  },
  {
   "cell_type": "markdown",
   "metadata": {},
   "source": [
    "## 2.1 Yelp Open Dataset"
   ]
  },
  {
   "cell_type": "markdown",
   "metadata": {},
   "source": [
    "Yelp Open Dataset is an open dataset released by Yelp for learning purposes. It consists of millions of user reviews, businesses attributes and over 200,000 pictures from multiple metropolitan areas\n",
    "- Size: 2.66 GB JSON \n",
    "- Number of Records: 5,200,000 reviews, 174,000 business attributes, 200,000 pictures etc.\n",
    "     > We only used Business JSON fiel to conduct an analysis. An example of the Business JSON file:\n",
    "       [{'business_id': 'Apn5Q_b6Nz61Tq4XzPdf9A',\n",
    "         'name': 'Minhas Micro Brewery',\n",
    "         'neighborhood': '',\n",
    "         'address': '1314 44 Avenue NE',\n",
    "         'city': 'Calgary',\n",
    "         'state': 'AB',\n",
    "         'postal_code': 'T2E 6L6',\n",
    "         'latitude': 51.0918130155,\n",
    "         'longitude': -114.031674872,\n",
    "         'stars': 4.0,\n",
    "         'review_count': 24,\n",
    "         'is_open': 1,\n",
    "         'attributes': {'BikeParking': 'False',\n",
    "          'BusinessAcceptsCreditCards': 'True',\n",
    "          'BusinessParking': \"{'garage': False, 'street': True, 'validated': False, 'lot': False, 'valet': False}\",\n",
    "          'GoodForKids': 'True',\n",
    "          'HasTV': 'True',\n",
    "          'NoiseLevel': 'average',\n",
    "          'OutdoorSeating': 'False',\n",
    "          'RestaurantsAttire': 'casual',\n",
    "          'RestaurantsDelivery': 'False',\n",
    "          'RestaurantsGoodForGroups': 'True',\n",
    "          'RestaurantsPriceRange2': '2',\n",
    "          'RestaurantsReservations': 'True',\n",
    "          'RestaurantsTakeOut': 'True'},\n",
    "         'categories': 'Tours, Breweries, Pizza, Restaurants, Food, Hotels & Travel',\n",
    "         'hours': {'Monday': '8:30-17:0',\n",
    "          'Tuesday': '11:0-21:0',\n",
    "          'Wednesday': '11:0-21:0',\n",
    "          'Thursday': '11:0-21:0',\n",
    "          'Friday': '11:0-21:0',\n",
    "          'Saturday': '11:0-21:0'}},\n",
    "           ...]"
   ]
  },
  {
   "cell_type": "markdown",
   "metadata": {},
   "source": [
    "## 2.2 Data Cleaning "
   ]
  },
  {
   "cell_type": "markdown",
   "metadata": {},
   "source": [
    "### 2.2.1 Read JSON file"
   ]
  },
  {
   "cell_type": "code",
   "execution_count": 2,
   "metadata": {},
   "outputs": [],
   "source": [
    "data = []\n",
    "with open('yelp_academic_dataset_business.json') as f:\n",
    "    for line in f:\n",
    "        data.append(json.loads(line))"
   ]
  },
  {
   "cell_type": "markdown",
   "metadata": {},
   "source": [
    "### 2.2.2 Convert the JSON file to DataFrame and drop the rows if the `attribute` is NAN"
   ]
  },
  {
   "cell_type": "code",
   "execution_count": 3,
   "metadata": {},
   "outputs": [],
   "source": [
    "df = pd.DataFrame(data)\n",
    "df.dropna(subset=['attributes'],inplace=True)"
   ]
  },
  {
   "cell_type": "markdown",
   "metadata": {},
   "source": [
    "### 2.2.3 Insert the `RestaurantsPriceRange2` to the DataFrame ( Yelp $ Signs)"
   ]
  },
  {
   "cell_type": "code",
   "execution_count": 4,
   "metadata": {
    "scrolled": true
   },
   "outputs": [],
   "source": [
    "df_attribute = pd.DataFrame([i if i != None else {'RestaurantsPriceRange2':np.NAN} for i in df['attributes']])"
   ]
  },
  {
   "cell_type": "code",
   "execution_count": 5,
   "metadata": {},
   "outputs": [],
   "source": [
    "df['dollar_sign'] = df_attribute['RestaurantsPriceRange2']"
   ]
  },
  {
   "cell_type": "markdown",
   "metadata": {},
   "source": [
    "### 2.2.4 Select only important columns"
   ]
  },
  {
   "cell_type": "code",
   "execution_count": 6,
   "metadata": {},
   "outputs": [],
   "source": [
    "df = df[['business_id', 'categories','latitude','longitude','dollar_sign','city','state']]"
   ]
  },
  {
   "cell_type": "code",
   "execution_count": 7,
   "metadata": {
    "scrolled": true
   },
   "outputs": [
    {
     "data": {
      "text/html": [
       "<div>\n",
       "<style scoped>\n",
       "    .dataframe tbody tr th:only-of-type {\n",
       "        vertical-align: middle;\n",
       "    }\n",
       "\n",
       "    .dataframe tbody tr th {\n",
       "        vertical-align: top;\n",
       "    }\n",
       "\n",
       "    .dataframe thead th {\n",
       "        text-align: right;\n",
       "    }\n",
       "</style>\n",
       "<table border=\"1\" class=\"dataframe\">\n",
       "  <thead>\n",
       "    <tr style=\"text-align: right;\">\n",
       "      <th></th>\n",
       "      <th>business_id</th>\n",
       "      <th>categories</th>\n",
       "      <th>latitude</th>\n",
       "      <th>longitude</th>\n",
       "      <th>dollar_sign</th>\n",
       "      <th>city</th>\n",
       "      <th>state</th>\n",
       "    </tr>\n",
       "  </thead>\n",
       "  <tbody>\n",
       "    <tr>\n",
       "      <th>0</th>\n",
       "      <td>Apn5Q_b6Nz61Tq4XzPdf9A</td>\n",
       "      <td>Tours, Breweries, Pizza, Restaurants, Food, Ho...</td>\n",
       "      <td>51.091813</td>\n",
       "      <td>-114.031675</td>\n",
       "      <td>2</td>\n",
       "      <td>Calgary</td>\n",
       "      <td>AB</td>\n",
       "    </tr>\n",
       "    <tr>\n",
       "      <th>1</th>\n",
       "      <td>AjEbIBw6ZFfln7ePHha9PA</td>\n",
       "      <td>Chicken Wings, Burgers, Caterers, Street Vendo...</td>\n",
       "      <td>35.960734</td>\n",
       "      <td>-114.939821</td>\n",
       "      <td>2</td>\n",
       "      <td>Henderson</td>\n",
       "      <td>NV</td>\n",
       "    </tr>\n",
       "    <tr>\n",
       "      <th>2</th>\n",
       "      <td>O8S5hYJ1SMc8fA4QBtVujA</td>\n",
       "      <td>Breakfast &amp; Brunch, Restaurants, French, Sandw...</td>\n",
       "      <td>45.540503</td>\n",
       "      <td>-73.599300</td>\n",
       "      <td>2</td>\n",
       "      <td>Montréal</td>\n",
       "      <td>QC</td>\n",
       "    </tr>\n",
       "    <tr>\n",
       "      <th>4</th>\n",
       "      <td>8USyCYqpScwiNEb58Bt6CA</td>\n",
       "      <td>Home &amp; Garden, Nurseries &amp; Gardening, Shopping...</td>\n",
       "      <td>51.035591</td>\n",
       "      <td>-114.027366</td>\n",
       "      <td>1</td>\n",
       "      <td>Calgary</td>\n",
       "      <td>AB</td>\n",
       "    </tr>\n",
       "    <tr>\n",
       "      <th>5</th>\n",
       "      <td>45bWSZtniwPRiqlivpS8Og</td>\n",
       "      <td>Coffee &amp; Tea, Food</td>\n",
       "      <td>33.671375</td>\n",
       "      <td>-112.030017</td>\n",
       "      <td>1</td>\n",
       "      <td>Phoenix</td>\n",
       "      <td>AZ</td>\n",
       "    </tr>\n",
       "  </tbody>\n",
       "</table>\n",
       "</div>"
      ],
      "text/plain": [
       "              business_id                                         categories  \\\n",
       "0  Apn5Q_b6Nz61Tq4XzPdf9A  Tours, Breweries, Pizza, Restaurants, Food, Ho...   \n",
       "1  AjEbIBw6ZFfln7ePHha9PA  Chicken Wings, Burgers, Caterers, Street Vendo...   \n",
       "2  O8S5hYJ1SMc8fA4QBtVujA  Breakfast & Brunch, Restaurants, French, Sandw...   \n",
       "4  8USyCYqpScwiNEb58Bt6CA  Home & Garden, Nurseries & Gardening, Shopping...   \n",
       "5  45bWSZtniwPRiqlivpS8Og                                 Coffee & Tea, Food   \n",
       "\n",
       "    latitude   longitude dollar_sign       city state  \n",
       "0  51.091813 -114.031675           2    Calgary    AB  \n",
       "1  35.960734 -114.939821           2  Henderson    NV  \n",
       "2  45.540503  -73.599300           2   Montréal    QC  \n",
       "4  51.035591 -114.027366           1    Calgary    AB  \n",
       "5  33.671375 -112.030017           1    Phoenix    AZ  "
      ]
     },
     "execution_count": 7,
     "metadata": {},
     "output_type": "execute_result"
    }
   ],
   "source": [
    "df.head()"
   ]
  },
  {
   "cell_type": "markdown",
   "metadata": {},
   "source": [
    "### 2.2.5 Identify the more accurate zip code based on `latitude` and `longitude`"
   ]
  },
  {
   "cell_type": "markdown",
   "metadata": {},
   "source": [
    "The cartographic boundary files are simplified representations of selected geographic areas from the Census Bureau’s MAF/TIGER geographic database. \n",
    "Source: https://www.census.gov/geo/maps-data/data/cbf/cbf_zcta.html"
   ]
  },
  {
   "cell_type": "code",
   "execution_count": 8,
   "metadata": {},
   "outputs": [],
   "source": [
    "zip_code = pd.read_csv('https://raw.githubusercontent.com/jlian014/yelp/master/yelp_geo_zips.csv')"
   ]
  },
  {
   "cell_type": "code",
   "execution_count": 9,
   "metadata": {
    "scrolled": true
   },
   "outputs": [
    {
     "data": {
      "text/html": [
       "<div>\n",
       "<style scoped>\n",
       "    .dataframe tbody tr th:only-of-type {\n",
       "        vertical-align: middle;\n",
       "    }\n",
       "\n",
       "    .dataframe tbody tr th {\n",
       "        vertical-align: top;\n",
       "    }\n",
       "\n",
       "    .dataframe thead th {\n",
       "        text-align: right;\n",
       "    }\n",
       "</style>\n",
       "<table border=\"1\" class=\"dataframe\">\n",
       "  <thead>\n",
       "    <tr style=\"text-align: right;\">\n",
       "      <th></th>\n",
       "      <th>business_id</th>\n",
       "      <th>zip</th>\n",
       "    </tr>\n",
       "  </thead>\n",
       "  <tbody>\n",
       "    <tr>\n",
       "      <th>0</th>\n",
       "      <td>Apn5Q_b6Nz61Tq4XzPdf9A</td>\n",
       "      <td>not_in_census_zip</td>\n",
       "    </tr>\n",
       "    <tr>\n",
       "      <th>1</th>\n",
       "      <td>AjEbIBw6ZFfln7ePHha9PA</td>\n",
       "      <td>89005</td>\n",
       "    </tr>\n",
       "    <tr>\n",
       "      <th>2</th>\n",
       "      <td>O8S5hYJ1SMc8fA4QBtVujA</td>\n",
       "      <td>not_in_census_zip</td>\n",
       "    </tr>\n",
       "    <tr>\n",
       "      <th>3</th>\n",
       "      <td>45bWSZtniwPRiqlivpS8Og</td>\n",
       "      <td>85050</td>\n",
       "    </tr>\n",
       "    <tr>\n",
       "      <th>4</th>\n",
       "      <td>9A2quhZLyWk0akUetBd8hQ</td>\n",
       "      <td>not_in_census_zip</td>\n",
       "    </tr>\n",
       "  </tbody>\n",
       "</table>\n",
       "</div>"
      ],
      "text/plain": [
       "              business_id                zip\n",
       "0  Apn5Q_b6Nz61Tq4XzPdf9A  not_in_census_zip\n",
       "1  AjEbIBw6ZFfln7ePHha9PA              89005\n",
       "2  O8S5hYJ1SMc8fA4QBtVujA  not_in_census_zip\n",
       "3  45bWSZtniwPRiqlivpS8Og              85050\n",
       "4  9A2quhZLyWk0akUetBd8hQ  not_in_census_zip"
      ]
     },
     "execution_count": 9,
     "metadata": {},
     "output_type": "execute_result"
    }
   ],
   "source": [
    "zip_code.head()"
   ]
  },
  {
   "cell_type": "markdown",
   "metadata": {},
   "source": [
    "Finally, we inserted the zip code to the dataframe."
   ]
  },
  {
   "cell_type": "code",
   "execution_count": 10,
   "metadata": {},
   "outputs": [],
   "source": [
    "df = df.merge(zip_code,on='business_id',how='inner')"
   ]
  },
  {
   "cell_type": "markdown",
   "metadata": {},
   "source": [
    "### 2.2.6 Missing values"
   ]
  },
  {
   "cell_type": "code",
   "execution_count": 11,
   "metadata": {
    "scrolled": true
   },
   "outputs": [
    {
     "data": {
      "text/plain": [
       "business_id        0\n",
       "categories        31\n",
       "latitude           3\n",
       "longitude          2\n",
       "dollar_sign    46089\n",
       "city               0\n",
       "state              0\n",
       "zip                0\n",
       "dtype: int64"
      ]
     },
     "execution_count": 11,
     "metadata": {},
     "output_type": "execute_result"
    }
   ],
   "source": [
    "df.isnull().sum()"
   ]
  },
  {
   "cell_type": "code",
   "execution_count": 12,
   "metadata": {},
   "outputs": [],
   "source": [
    "df['categories'] = df['categories'].fillna('None')"
   ]
  },
  {
   "cell_type": "code",
   "execution_count": 13,
   "metadata": {},
   "outputs": [],
   "source": [
    "df.dropna(inplace=True)"
   ]
  },
  {
   "cell_type": "code",
   "execution_count": 14,
   "metadata": {
    "scrolled": false
   },
   "outputs": [
    {
     "data": {
      "text/plain": [
       "business_id    0\n",
       "categories     0\n",
       "latitude       0\n",
       "longitude      0\n",
       "dollar_sign    0\n",
       "city           0\n",
       "state          0\n",
       "zip            0\n",
       "dtype: int64"
      ]
     },
     "execution_count": 14,
     "metadata": {},
     "output_type": "execute_result"
    }
   ],
   "source": [
    "df.isnull().sum()"
   ]
  },
  {
   "cell_type": "markdown",
   "metadata": {},
   "source": [
    "### 2.2.7 Select only 5 digit US postal_code "
   ]
  },
  {
   "cell_type": "code",
   "execution_count": 15,
   "metadata": {},
   "outputs": [],
   "source": [
    "df = df[df.zip.str.match(\"\\d{5}\")]"
   ]
  },
  {
   "cell_type": "markdown",
   "metadata": {},
   "source": [
    "### 2.2.8 Group by zipcode"
   ]
  },
  {
   "cell_type": "code",
   "execution_count": 16,
   "metadata": {},
   "outputs": [],
   "source": [
    "df_post = df.set_index('zip')\n",
    "pivoted = pd.pivot_table(df_post, index='zip', columns='dollar_sign', values='business_id', aggfunc=\"count\",fill_value=0)\n",
    "flattened = pd.DataFrame(pivoted.to_records())\n",
    "df_post = flattened.rename(columns={'1':'yelp_dollar_1','2':'yelp_dollar_2','3':'yelp_dollar_3','4':'yelp_dollar_4'})\n",
    "df_post['Total_Business'] = df_post['yelp_dollar_1'] + df_post['yelp_dollar_2'] +  df_post['yelp_dollar_3'] + df_post['yelp_dollar_4']"
   ]
  },
  {
   "cell_type": "markdown",
   "metadata": {},
   "source": [
    "# 3. Target variable `affluence` "
   ]
  },
  {
   "cell_type": "markdown",
   "metadata": {},
   "source": [
    "## 3.1 Import IRS dataset"
   ]
  },
  {
   "cell_type": "markdown",
   "metadata": {},
   "source": [
    "The [IRS 2016 Individual Income Tax Statistics](https://www.irs.gov/statistics/soi-tax-stats-individual-income-tax-statistics-2016-zip-code-data-soi) is our variables to identify the zipcode affluent. The data shows that population that was filed and processed by the IRS during the 2016 calendar year. The money amounts are reported are divided in 6 numerical categories.\n",
    "\n",
    "                1 = $1 under $25,000\n",
    "                2 = $25,000 under $50,000\n",
    "                3 = $50,000 under $75,000\n",
    "                4 = $75,000 under $100,000\n",
    "                5 = $100,000 under $200,000\n",
    "                6 = $200,000 or more"
   ]
  },
  {
   "cell_type": "code",
   "execution_count": 19,
   "metadata": {},
   "outputs": [],
   "source": [
    "IRS = pd.read_csv('./IRS_zipcodes_clean.csv')"
   ]
  },
  {
   "cell_type": "code",
   "execution_count": 20,
   "metadata": {},
   "outputs": [
    {
     "data": {
      "text/html": [
       "<div>\n",
       "<style scoped>\n",
       "    .dataframe tbody tr th:only-of-type {\n",
       "        vertical-align: middle;\n",
       "    }\n",
       "\n",
       "    .dataframe tbody tr th {\n",
       "        vertical-align: top;\n",
       "    }\n",
       "\n",
       "    .dataframe thead th {\n",
       "        text-align: right;\n",
       "    }\n",
       "</style>\n",
       "<table border=\"1\" class=\"dataframe\">\n",
       "  <thead>\n",
       "    <tr style=\"text-align: right;\">\n",
       "      <th></th>\n",
       "      <th>STATE</th>\n",
       "      <th>zipcode</th>\n",
       "      <th>1</th>\n",
       "      <th>2</th>\n",
       "      <th>3</th>\n",
       "      <th>4</th>\n",
       "      <th>5</th>\n",
       "      <th>6</th>\n",
       "    </tr>\n",
       "  </thead>\n",
       "  <tbody>\n",
       "    <tr>\n",
       "      <th>0</th>\n",
       "      <td>AL</td>\n",
       "      <td>35004</td>\n",
       "      <td>1510.0</td>\n",
       "      <td>1410.0</td>\n",
       "      <td>950.0</td>\n",
       "      <td>650.0</td>\n",
       "      <td>630.0</td>\n",
       "      <td>60.0</td>\n",
       "    </tr>\n",
       "    <tr>\n",
       "      <th>1</th>\n",
       "      <td>AL</td>\n",
       "      <td>35005</td>\n",
       "      <td>1310.0</td>\n",
       "      <td>960.0</td>\n",
       "      <td>450.0</td>\n",
       "      <td>200.0</td>\n",
       "      <td>180.0</td>\n",
       "      <td>0.0</td>\n",
       "    </tr>\n",
       "    <tr>\n",
       "      <th>2</th>\n",
       "      <td>AL</td>\n",
       "      <td>35006</td>\n",
       "      <td>430.0</td>\n",
       "      <td>330.0</td>\n",
       "      <td>190.0</td>\n",
       "      <td>120.0</td>\n",
       "      <td>130.0</td>\n",
       "      <td>0.0</td>\n",
       "    </tr>\n",
       "    <tr>\n",
       "      <th>3</th>\n",
       "      <td>AL</td>\n",
       "      <td>35007</td>\n",
       "      <td>4070.0</td>\n",
       "      <td>2650.0</td>\n",
       "      <td>1820.0</td>\n",
       "      <td>1340.0</td>\n",
       "      <td>1820.0</td>\n",
       "      <td>240.0</td>\n",
       "    </tr>\n",
       "    <tr>\n",
       "      <th>4</th>\n",
       "      <td>AL</td>\n",
       "      <td>35010</td>\n",
       "      <td>3620.0</td>\n",
       "      <td>2070.0</td>\n",
       "      <td>890.0</td>\n",
       "      <td>530.0</td>\n",
       "      <td>620.0</td>\n",
       "      <td>180.0</td>\n",
       "    </tr>\n",
       "  </tbody>\n",
       "</table>\n",
       "</div>"
      ],
      "text/plain": [
       "  STATE  zipcode       1       2       3       4       5      6\n",
       "0    AL    35004  1510.0  1410.0   950.0   650.0   630.0   60.0\n",
       "1    AL    35005  1310.0   960.0   450.0   200.0   180.0    0.0\n",
       "2    AL    35006   430.0   330.0   190.0   120.0   130.0    0.0\n",
       "3    AL    35007  4070.0  2650.0  1820.0  1340.0  1820.0  240.0\n",
       "4    AL    35010  3620.0  2070.0   890.0   530.0   620.0  180.0"
      ]
     },
     "execution_count": 20,
     "metadata": {},
     "output_type": "execute_result"
    }
   ],
   "source": [
    "IRS.head()"
   ]
  },
  {
   "cell_type": "code",
   "execution_count": 21,
   "metadata": {},
   "outputs": [],
   "source": [
    "IRS = IRS.rename(columns={'zipcode':'zip',\n",
    "                          '1':'income_level_1',\n",
    "                          '2':'income_level_2',\n",
    "                          '3':'income_level_3',\n",
    "                          '4':'income_level_4',\n",
    "                          '5':'income_level_5',\n",
    "                          '6':'income_level_6'})"
   ]
  },
  {
   "cell_type": "code",
   "execution_count": 22,
   "metadata": {
    "scrolled": true
   },
   "outputs": [
    {
     "data": {
      "text/plain": [
       "zip               object\n",
       "yelp_dollar_1      int64\n",
       "yelp_dollar_2      int64\n",
       "yelp_dollar_3      int64\n",
       "yelp_dollar_4      int64\n",
       "Total_Business     int64\n",
       "dtype: object"
      ]
     },
     "execution_count": 22,
     "metadata": {},
     "output_type": "execute_result"
    }
   ],
   "source": [
    "df_post.dtypes"
   ]
  },
  {
   "cell_type": "code",
   "execution_count": 23,
   "metadata": {},
   "outputs": [],
   "source": [
    "df_post.zip = df_post.zip.astype('int64')"
   ]
  },
  {
   "cell_type": "code",
   "execution_count": 24,
   "metadata": {},
   "outputs": [],
   "source": [
    "df_post = df_post.merge(IRS,on='zip',how='inner')"
   ]
  },
  {
   "cell_type": "markdown",
   "metadata": {},
   "source": [
    "Merge the data to the yelp dataset."
   ]
  },
  {
   "cell_type": "markdown",
   "metadata": {},
   "source": [
    "## 3.2 Compute the target variable"
   ]
  },
  {
   "cell_type": "markdown",
   "metadata": {},
   "source": [
    "Assign the target variable classes based on the median income level.\n"
   ]
  },
  {
   "cell_type": "code",
   "execution_count": 25,
   "metadata": {},
   "outputs": [],
   "source": [
    "irs_freq_count = np.array(df_post.loc[:, 'income_level_1':'income_level_6'])\n",
    "cumm = np.cumsum(irs_freq_count, axis=1) \n",
    "indices = [np.searchsorted(row, row[-1]/2.0) for row in cumm]\n",
    "df_post['target'] = [i+1 for i in indices]"
   ]
  },
  {
   "cell_type": "code",
   "execution_count": 26,
   "metadata": {
    "scrolled": true
   },
   "outputs": [
    {
     "data": {
      "text/html": [
       "<div>\n",
       "<style scoped>\n",
       "    .dataframe tbody tr th:only-of-type {\n",
       "        vertical-align: middle;\n",
       "    }\n",
       "\n",
       "    .dataframe tbody tr th {\n",
       "        vertical-align: top;\n",
       "    }\n",
       "\n",
       "    .dataframe thead th {\n",
       "        text-align: right;\n",
       "    }\n",
       "</style>\n",
       "<table border=\"1\" class=\"dataframe\">\n",
       "  <thead>\n",
       "    <tr style=\"text-align: right;\">\n",
       "      <th></th>\n",
       "      <th>zip</th>\n",
       "      <th>yelp_dollar_1</th>\n",
       "      <th>yelp_dollar_2</th>\n",
       "      <th>yelp_dollar_3</th>\n",
       "      <th>yelp_dollar_4</th>\n",
       "      <th>Total_Business</th>\n",
       "      <th>STATE</th>\n",
       "      <th>income_level_1</th>\n",
       "      <th>income_level_2</th>\n",
       "      <th>income_level_3</th>\n",
       "      <th>income_level_4</th>\n",
       "      <th>income_level_5</th>\n",
       "      <th>income_level_6</th>\n",
       "      <th>target</th>\n",
       "    </tr>\n",
       "  </thead>\n",
       "  <tbody>\n",
       "    <tr>\n",
       "      <th>0</th>\n",
       "      <td>12919</td>\n",
       "      <td>1</td>\n",
       "      <td>1</td>\n",
       "      <td>1</td>\n",
       "      <td>0</td>\n",
       "      <td>3</td>\n",
       "      <td>NY</td>\n",
       "      <td>580.0</td>\n",
       "      <td>420.0</td>\n",
       "      <td>250.0</td>\n",
       "      <td>170.0</td>\n",
       "      <td>160.0</td>\n",
       "      <td>0.0</td>\n",
       "      <td>2</td>\n",
       "    </tr>\n",
       "    <tr>\n",
       "      <th>1</th>\n",
       "      <td>12923</td>\n",
       "      <td>0</td>\n",
       "      <td>1</td>\n",
       "      <td>0</td>\n",
       "      <td>0</td>\n",
       "      <td>1</td>\n",
       "      <td>NY</td>\n",
       "      <td>80.0</td>\n",
       "      <td>70.0</td>\n",
       "      <td>30.0</td>\n",
       "      <td>20.0</td>\n",
       "      <td>20.0</td>\n",
       "      <td>0.0</td>\n",
       "      <td>2</td>\n",
       "    </tr>\n",
       "    <tr>\n",
       "      <th>2</th>\n",
       "      <td>12979</td>\n",
       "      <td>3</td>\n",
       "      <td>1</td>\n",
       "      <td>0</td>\n",
       "      <td>0</td>\n",
       "      <td>4</td>\n",
       "      <td>NY</td>\n",
       "      <td>430.0</td>\n",
       "      <td>290.0</td>\n",
       "      <td>160.0</td>\n",
       "      <td>130.0</td>\n",
       "      <td>160.0</td>\n",
       "      <td>0.0</td>\n",
       "      <td>2</td>\n",
       "    </tr>\n",
       "    <tr>\n",
       "      <th>3</th>\n",
       "      <td>15003</td>\n",
       "      <td>6</td>\n",
       "      <td>8</td>\n",
       "      <td>0</td>\n",
       "      <td>2</td>\n",
       "      <td>16</td>\n",
       "      <td>PA</td>\n",
       "      <td>2340.0</td>\n",
       "      <td>1650.0</td>\n",
       "      <td>820.0</td>\n",
       "      <td>450.0</td>\n",
       "      <td>360.0</td>\n",
       "      <td>40.0</td>\n",
       "      <td>2</td>\n",
       "    </tr>\n",
       "    <tr>\n",
       "      <th>4</th>\n",
       "      <td>15015</td>\n",
       "      <td>0</td>\n",
       "      <td>1</td>\n",
       "      <td>0</td>\n",
       "      <td>0</td>\n",
       "      <td>1</td>\n",
       "      <td>PA</td>\n",
       "      <td>160.0</td>\n",
       "      <td>70.0</td>\n",
       "      <td>60.0</td>\n",
       "      <td>70.0</td>\n",
       "      <td>190.0</td>\n",
       "      <td>110.0</td>\n",
       "      <td>4</td>\n",
       "    </tr>\n",
       "  </tbody>\n",
       "</table>\n",
       "</div>"
      ],
      "text/plain": [
       "     zip  yelp_dollar_1  yelp_dollar_2  yelp_dollar_3  yelp_dollar_4  \\\n",
       "0  12919              1              1              1              0   \n",
       "1  12923              0              1              0              0   \n",
       "2  12979              3              1              0              0   \n",
       "3  15003              6              8              0              2   \n",
       "4  15015              0              1              0              0   \n",
       "\n",
       "   Total_Business STATE  income_level_1  income_level_2  income_level_3  \\\n",
       "0               3    NY           580.0           420.0           250.0   \n",
       "1               1    NY            80.0            70.0            30.0   \n",
       "2               4    NY           430.0           290.0           160.0   \n",
       "3              16    PA          2340.0          1650.0           820.0   \n",
       "4               1    PA           160.0            70.0            60.0   \n",
       "\n",
       "   income_level_4  income_level_5  income_level_6  target  \n",
       "0           170.0           160.0             0.0       2  \n",
       "1            20.0            20.0             0.0       2  \n",
       "2           130.0           160.0             0.0       2  \n",
       "3           450.0           360.0            40.0       2  \n",
       "4            70.0           190.0           110.0       4  "
      ]
     },
     "execution_count": 26,
     "metadata": {},
     "output_type": "execute_result"
    }
   ],
   "source": [
    "df_post.head()"
   ]
  },
  {
   "cell_type": "markdown",
   "metadata": {},
   "source": [
    "# 4. Export the dataset for further use"
   ]
  },
  {
   "cell_type": "code",
   "execution_count": 28,
   "metadata": {},
   "outputs": [],
   "source": [
    "df_post.to_csv('yelp_modeling.csv')"
   ]
  },
  {
   "cell_type": "markdown",
   "metadata": {},
   "source": [
    "\n",
    "**The data dictionary of the resulted dataframe:**\n",
    "\n",
    "\n",
    "|Variables| dtype| description |\n",
    "|-------|----|-----|\n",
    "|zip|int64|zipcode|\n",
    "|yelp_dollar_1|int|the number of businesses that have 1 dollar signs in this zipcode area|\n",
    "|yelp_dollar_2|int|the number of businesses that have 2 dollar signs in this zipcode area|\n",
    "|yelp_dollar_3|int|the number of businesses that have 3 dollar signs in this zipcode area|\n",
    "|yelp_dollar_4|int|the number of businesses that have 4 dollar signs in this zipcode area|\n",
    "|Total_Business|int|the total number of businesses in this zipcode area|\n",
    "|STATE|object|States|\n",
    "|income_level_1|float|the number of people whose income level lie in level_1 category(statistics from IRS)|\n",
    "|income_level_2|float|the number of people whose income level lie in level_2 category(statistics from IRS)|\n",
    "|income_level_3|float|the number of people whose income level lie in level_3 category(statistics from IRS)|\n",
    "|income_level_4|float|the number of people whose income level lie in level_4 category(statistics from IRS)|\n",
    "|income_level_5|float|the number of people whose income level lie in level_5 category(statistics from IRS)|\n",
    "|income_level_6|float|the number of people whose income level lie in level_6 category(statistics from IRS)|\n",
    "|target|int|the target variable shows the neighborhood affluence"
   ]
  }
 ],
 "metadata": {
  "kernelspec": {
   "display_name": "Python 3",
   "language": "python",
   "name": "python3"
  },
  "language_info": {
   "codemirror_mode": {
    "name": "ipython",
    "version": 3
   },
   "file_extension": ".py",
   "mimetype": "text/x-python",
   "name": "python",
   "nbconvert_exporter": "python",
   "pygments_lexer": "ipython3",
   "version": "3.6.7"
  }
 },
 "nbformat": 4,
 "nbformat_minor": 2
}
